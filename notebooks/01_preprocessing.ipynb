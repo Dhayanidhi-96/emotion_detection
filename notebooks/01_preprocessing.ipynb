{
 "cells": [
  {
   "cell_type": "code",
   "execution_count": 1,
   "id": "fefb8dc1-f8d7-4f66-927d-bb274de553a6",
   "metadata": {},
   "outputs": [
    {
     "name": "stdout",
     "output_type": "stream",
     "text": [
      "Found 28709 images belonging to 7 classes.\n",
      "Found 7178 images belonging to 7 classes.\n"
     ]
    }
   ],
   "source": [
    "from tensorflow.keras.preprocessing.image import ImageDataGenerator\n",
    "\n",
    "train_dir = 'D:/emotion_detection/dataset/train'\n",
    "test_dir = 'D:/emotion_detection/dataset/test'\n",
    "\n",
    "\n",
    "img_gen = ImageDataGenerator(rescale = 1./255)\n",
    "\n",
    "train_data = img_gen.flow_from_directory(\n",
    "    train_dir,\n",
    "    target_size = (48,48),\n",
    "    batch_size = 32,\n",
    "    color_mode = 'grayscale',\n",
    "    class_mode = 'categorical'\n",
    ")\n",
    "\n",
    "test_data = img_gen.flow_from_directory(\n",
    "    test_dir,\n",
    "    target_size= (48,48),\n",
    "    batch_size = 32,\n",
    "    color_mode= 'grayscale',\n",
    "    class_mode = 'categorical'\n",
    ")"
   ]
  },
  {
   "cell_type": "code",
   "execution_count": null,
   "id": "83071311-2b61-418c-982b-e7205f69a761",
   "metadata": {},
   "outputs": [],
   "source": []
  }
 ],
 "metadata": {
  "kernelspec": {
   "display_name": "cnn_gpu_env",
   "language": "python",
   "name": "cnn_gpu_env"
  },
  "language_info": {
   "codemirror_mode": {
    "name": "ipython",
    "version": 3
   },
   "file_extension": ".py",
   "mimetype": "text/x-python",
   "name": "python",
   "nbconvert_exporter": "python",
   "pygments_lexer": "ipython3",
   "version": "3.9.13"
  }
 },
 "nbformat": 4,
 "nbformat_minor": 5
}
